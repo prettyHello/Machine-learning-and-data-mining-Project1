{
 "cells": [
  {
   "cell_type": "code",
   "execution_count": null,
   "metadata": {},
   "outputs": [],
   "source": [
    "# On importe les librairies dont on aura besoin pour la Question1\n",
    "from sklearn import tree\n",
    "import numpy as np\n",
    "import pandas as pd\n",
    "import matplotlib.pyplot as plt\n",
    "import graphviz\n",
    "from sklearn.tree import DecisionTreeClassifier\n",
    "from sklearn.tree.export import export_text\n",
    "from sklearn import tree\n",
    "from sklearn import metrics"
   ]
  },
  {
   "cell_type": "code",
   "execution_count": null,
   "metadata": {},
   "outputs": [],
   "source": [
    "# On charge le dataset d'entrainement et de test\n",
    "Training_Set = pd.read_csv('../Data/Adult_train.csv', sep=',')\n",
    "Testing_Set = pd.read_csv('../Data/Adult_test.csv', sep=',')"
   ]
  },
  {
   "cell_type": "code",
   "execution_count": null,
   "metadata": {},
   "outputs": [],
   "source": [
    "##__traitement des donnee__##\n",
    "\n",
    "#on extrait les features des 2 dataset \n",
    "feature_Training_Set =  Training_Set.drop(['salary'],axis=1)\n",
    "feature_Testing_Set =  Testing_Set.drop(['salary'],axis=1)\n",
    "\n",
    "# on extrait les étiquettes de classe de l'échantillon d'apprentissage\n",
    "target_Training_Set = Training_Set['salary']\n",
    "target_Testing_Set = Testing_Set['salary']\n",
    "\n",
    "#on extrait le nom des features pour remplacer les numero par leur nom respective dans le graphe de l'abre\n",
    "names_features=[]\n",
    "with open (\"../Data/Adult_train.csv\", \"r\") as f: # ouverture du fichier en mode lecture\n",
    "    names_features = f.readline().strip().split(\",\")  # on enlève les caractères de fin de ligne et on découpe en colonnes\n",
    "\n",
    "#on supprime le dernier nom 'salary' de la liste des noms\n",
    "del names_features[len(names_features) -1]"
   ]
  },
  {
   "cell_type": "code",
   "execution_count": null,
   "metadata": {},
   "outputs": [],
   "source": [
    "##__Construction d'un modèle d'arbre de décision__##\n",
    "\n",
    "accuracy_Training = []\n",
    "accuracy_Testing = []\n",
    "\n",
    "for i in range(40,100):\n",
    "    decision_tree = DecisionTreeClassifier(random_state=0, max_features= i, criterion=\"entropy\")\n",
    "    decision_tree.fit(feature_Training_Set, target_Training_Set)\n",
    "    \n",
    "    a=decision_tree.score(feature_Training_Set, target_Training_Set)\n",
    "    accuracy_Training.append(a)\n",
    "    b=decision_tree.score(feature_Testing_Set, target_Testing_Set)\n",
    "    accuracy_Testing.append(b)\n",
    "    \n",
    "plt.plot(range(40,100), accuracy_Training, label =\"précision sur donnee d'entrainement\")\n",
    "plt.plot(range(40,100), accuracy_Testing, label =\"précision sur donnee de test\")\n",
    "plt.ylabel(\"précision\")\n",
    "plt.xlabel(\"profondeur de l'abre\")\n",
    "plt.legend()\n",
    "plt.grid(True)\n",
    "#plt.text(7, 0.84, r'point de rencontre')\n",
    "#plt.text(10, 0.84, r'chutte \"test\"')\n",
    "#plt.text(30, 0.99, r'optimal')\n",
    " "
   ]
  },
  {
   "cell_type": "code",
   "execution_count": null,
   "metadata": {},
   "outputs": [],
   "source": [
    "index_tree = [[\"Training\", \"Testing\"],\n",
    "              [max(accuracy_Training),max(accuracy_Testing)],\n",
    "              [1+40+accuracy_Training.index(max(accuracy_Training)),1+40+accuracy_Testing.index(max(accuracy_Testing))]]\n",
    "\n",
    "Taille_ligne = 57\n",
    "espace = 13\n",
    "print (\"MEILLEUR PROFONDEUR DE L'ABRE:\\n\\n\")\n",
    "\n",
    "print (\" \"*espace,\"+\",\"-\"*(Taille_ligne-espace-1),\"+\") \n",
    "print (\" \"*espace,\"| %20s | %20s |\" %(index_tree[0][0] ,index_tree[0][1]),\"\\n+\",\"-\"*Taille_ligne,\"+\" )\n",
    "print (\"| Profondeur  | %20s | %20s |\" %(index_tree[2][0] ,index_tree[2][1]),\"\\n+\",\"-\"*Taille_ligne,\"+\")\n",
    "print (\"| precision   | %20s | %20s |\" %(index_tree[1][0] ,index_tree[1][1]),\"\\n|\" \" du Model    |\",\" \"*20,\"|\",\" \"*20,\"|\")\n",
    "print (\"+\",\"-\"*Taille_ligne,\"+\")"
   ]
  },
  {
   "cell_type": "code",
   "execution_count": null,
   "metadata": {},
   "outputs": [],
   "source": []
  },
  {
   "cell_type": "code",
   "execution_count": null,
   "metadata": {},
   "outputs": [],
   "source": []
  }
 ],
 "metadata": {
  "kernelspec": {
   "display_name": "Python 3",
   "language": "python",
   "name": "python3"
  },
  "language_info": {
   "codemirror_mode": {
    "name": "ipython",
    "version": 3
   },
   "file_extension": ".py",
   "mimetype": "text/x-python",
   "name": "python",
   "nbconvert_exporter": "python",
   "pygments_lexer": "ipython3",
   "version": "3.7.4"
  }
 },
 "nbformat": 4,
 "nbformat_minor": 2
}
